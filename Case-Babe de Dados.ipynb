{
 "cells": [
  {
   "cell_type": "markdown",
   "id": "cc1bd25b",
   "metadata": {},
   "source": [
    "# Case\n",
    "\n",
    "Elaborar uma visualização, usando pela menos uma base do nosso datalake. Sugerimos uma das seguintes bases:\n",
    "- Penn World Tables (PWT)\n",
    "- Sistema de Informações sobre Mortalidade (SIM)\n",
    "- Censo Agropecuário\n",
    "\n",
    "🚨 A visualização deverá ser realizada seguindo as seguintes regras:\n",
    "- Utilizar as bases do nosso datalake;\n",
    "- Utilizar o pacote basedosdados em Python;\n",
    "- Subir a visualização e todo código em Python em um repositório público no seu Github;\n",
    "- Preencher esse formulário com o link do repositório e o seu CV em pdf até a data limite\n"
   ]
  },
  {
   "cell_type": "markdown",
   "id": "c95a5b0d",
   "metadata": {},
   "source": [
    "# Bibliotecas"
   ]
  },
  {
   "cell_type": "code",
   "execution_count": 1,
   "id": "7618a22a",
   "metadata": {},
   "outputs": [],
   "source": [
    "import pandas as pd\n",
    "import matplotlib.pyplot as plt\n",
    "import basedosdados as bd\n",
    "import seaborn as sns"
   ]
  },
  {
   "cell_type": "code",
   "execution_count": 24,
   "id": "7a4bf4f9",
   "metadata": {},
   "outputs": [
    {
     "name": "stderr",
     "output_type": "stream",
     "text": [
      "Downloading: 100%|███████████████████████████████████████████████████████████████████| 36/36 [00:00<00:00, 79.06rows/s]\n"
     ]
    }
   ],
   "source": [
    "#Lendo o arquivo\n",
    "df = bd.read_sql(\n",
    "    '''\n",
    "    SELECT * FROM `basedosdados.br_ggb_relatorio_lgbtqi.raca_cor` LIMIT 100\n",
    "    ''',\n",
    "    billing_project_id='desafio-base-de-dados'\n",
    ")"
   ]
  },
  {
   "cell_type": "code",
   "execution_count": 4,
   "id": "acfe1dbf",
   "metadata": {},
   "outputs": [
    {
     "name": "stdout",
     "output_type": "stream",
     "text": [
      "<class 'pandas.core.frame.DataFrame'>\n",
      "RangeIndex: 36 entries, 0 to 35\n",
      "Data columns (total 4 columns):\n",
      " #   Column                 Non-Null Count  Dtype  \n",
      "---  ------                 --------------  -----  \n",
      " 0   ano                    36 non-null     object \n",
      " 1   raca_cor               36 non-null     object \n",
      " 2   homicidios             23 non-null     Int64  \n",
      " 3   prop_homicidios_total  23 non-null     float64\n",
      "dtypes: Int64(1), float64(1), object(2)\n",
      "memory usage: 1.3+ KB\n"
     ]
    }
   ],
   "source": [
    "df.info()"
   ]
  },
  {
   "cell_type": "code",
   "execution_count": 5,
   "id": "ff4209e5",
   "metadata": {},
   "outputs": [
    {
     "data": {
      "text/plain": [
       "36"
      ]
     },
     "execution_count": 5,
     "metadata": {},
     "output_type": "execute_result"
    }
   ],
   "source": [
    "len(df.index)"
   ]
  },
  {
   "cell_type": "code",
   "execution_count": 6,
   "id": "9e2d0f81",
   "metadata": {},
   "outputs": [
    {
     "data": {
      "text/html": [
       "<div>\n",
       "<style scoped>\n",
       "    .dataframe tbody tr th:only-of-type {\n",
       "        vertical-align: middle;\n",
       "    }\n",
       "\n",
       "    .dataframe tbody tr th {\n",
       "        vertical-align: top;\n",
       "    }\n",
       "\n",
       "    .dataframe thead th {\n",
       "        text-align: right;\n",
       "    }\n",
       "</style>\n",
       "<table border=\"1\" class=\"dataframe\">\n",
       "  <thead>\n",
       "    <tr style=\"text-align: right;\">\n",
       "      <th></th>\n",
       "      <th>raca_cor</th>\n",
       "      <th>prop_homicidios_total</th>\n",
       "    </tr>\n",
       "  </thead>\n",
       "  <tbody>\n",
       "    <tr>\n",
       "      <th>0</th>\n",
       "      <td>Branca</td>\n",
       "      <td>36.78</td>\n",
       "    </tr>\n",
       "    <tr>\n",
       "      <th>1</th>\n",
       "      <td>Parda</td>\n",
       "      <td>27.35</td>\n",
       "    </tr>\n",
       "    <tr>\n",
       "      <th>2</th>\n",
       "      <td>Preta</td>\n",
       "      <td>9.73</td>\n",
       "    </tr>\n",
       "    <tr>\n",
       "      <th>3</th>\n",
       "      <td>Não Identificado</td>\n",
       "      <td>26.14</td>\n",
       "    </tr>\n",
       "    <tr>\n",
       "      <th>4</th>\n",
       "      <td>Branca</td>\n",
       "      <td>58.40</td>\n",
       "    </tr>\n",
       "  </tbody>\n",
       "</table>\n",
       "</div>"
      ],
      "text/plain": [
       "           raca_cor  prop_homicidios_total\n",
       "0            Branca                  36.78\n",
       "1             Parda                  27.35\n",
       "2             Preta                   9.73\n",
       "3  Não Identificado                  26.14\n",
       "4            Branca                  58.40"
      ]
     },
     "execution_count": 6,
     "metadata": {},
     "output_type": "execute_result"
    }
   ],
   "source": [
    "colunas_selecionadas = ['raca_cor', 'prop_homicidios_total']\n",
    "df_selecao = df.filter(items=colunas_selecionadas)\n",
    "df_selecao.head()"
   ]
  },
  {
   "cell_type": "code",
   "execution_count": 7,
   "id": "a48001f5",
   "metadata": {},
   "outputs": [
    {
     "data": {
      "text/html": [
       "<div>\n",
       "<style scoped>\n",
       "    .dataframe tbody tr th:only-of-type {\n",
       "        vertical-align: middle;\n",
       "    }\n",
       "\n",
       "    .dataframe tbody tr th {\n",
       "        vertical-align: top;\n",
       "    }\n",
       "\n",
       "    .dataframe thead th {\n",
       "        text-align: right;\n",
       "    }\n",
       "</style>\n",
       "<table border=\"1\" class=\"dataframe\">\n",
       "  <thead>\n",
       "    <tr style=\"text-align: right;\">\n",
       "      <th></th>\n",
       "      <th>ano</th>\n",
       "      <th>homicidios</th>\n",
       "      <th>prop_homicidios_total</th>\n",
       "    </tr>\n",
       "    <tr>\n",
       "      <th>raca_cor</th>\n",
       "      <th></th>\n",
       "      <th></th>\n",
       "      <th></th>\n",
       "    </tr>\n",
       "  </thead>\n",
       "  <tbody>\n",
       "    <tr>\n",
       "      <th>Branca</th>\n",
       "      <td>9</td>\n",
       "      <td>6</td>\n",
       "      <td>6</td>\n",
       "    </tr>\n",
       "    <tr>\n",
       "      <th>Não Identificado</th>\n",
       "      <td>9</td>\n",
       "      <td>5</td>\n",
       "      <td>5</td>\n",
       "    </tr>\n",
       "    <tr>\n",
       "      <th>Parda</th>\n",
       "      <td>9</td>\n",
       "      <td>6</td>\n",
       "      <td>6</td>\n",
       "    </tr>\n",
       "    <tr>\n",
       "      <th>Preta</th>\n",
       "      <td>9</td>\n",
       "      <td>6</td>\n",
       "      <td>6</td>\n",
       "    </tr>\n",
       "  </tbody>\n",
       "</table>\n",
       "</div>"
      ],
      "text/plain": [
       "                  ano  homicidios  prop_homicidios_total\n",
       "raca_cor                                                \n",
       "Branca              9           6                      6\n",
       "Não Identificado    9           5                      5\n",
       "Parda               9           6                      6\n",
       "Preta               9           6                      6"
      ]
     },
     "execution_count": 7,
     "metadata": {},
     "output_type": "execute_result"
    }
   ],
   "source": [
    "df.groupby('raca_cor').count()"
   ]
  },
  {
   "cell_type": "code",
   "execution_count": 8,
   "id": "10a8b8d4",
   "metadata": {},
   "outputs": [
    {
     "data": {
      "text/plain": [
       "2088"
      ]
     },
     "execution_count": 8,
     "metadata": {},
     "output_type": "execute_result"
    }
   ],
   "source": [
    "#somda da coluna homicidios\n",
    "df['homicidios'].sum()"
   ]
  },
  {
   "cell_type": "code",
   "execution_count": 9,
   "id": "fc18a7dc",
   "metadata": {},
   "outputs": [
    {
     "data": {
      "text/plain": [
       "618.05"
      ]
     },
     "execution_count": 9,
     "metadata": {},
     "output_type": "execute_result"
    }
   ],
   "source": [
    "#soma da coluna prop_homicidios_total\n",
    "df['prop_homicidios_total'].sum()"
   ]
  },
  {
   "cell_type": "code",
   "execution_count": 18,
   "id": "f719e3e0",
   "metadata": {},
   "outputs": [
    {
     "name": "stdout",
     "output_type": "stream",
     "text": [
      "ano                       0\n",
      "raca_cor                  0\n",
      "homicidios               13\n",
      "prop_homicidios_total    13\n",
      "dtype: int64\n"
     ]
    }
   ],
   "source": [
    "print(df.isna().sum()) #mostrando a soma dos valores vazios em cada coluna. Temos muitos valores faltantes!"
   ]
  },
  {
   "cell_type": "code",
   "execution_count": 19,
   "id": "186410af",
   "metadata": {},
   "outputs": [],
   "source": [
    "df  = df.dropna(how=\"any\", axis=0) #Eliminando linhas que contem itens vazios"
   ]
  },
  {
   "cell_type": "code",
   "execution_count": 20,
   "id": "5a811209",
   "metadata": {},
   "outputs": [
    {
     "name": "stdout",
     "output_type": "stream",
     "text": [
      "ano                      0\n",
      "raca_cor                 0\n",
      "homicidios               0\n",
      "prop_homicidios_total    0\n",
      "dtype: int64\n"
     ]
    }
   ],
   "source": [
    "print(df.isna().sum()) #agora sem dados faltantes"
   ]
  },
  {
   "cell_type": "code",
   "execution_count": 23,
   "id": "e41d5ed0",
   "metadata": {},
   "outputs": [
    {
     "data": {
      "image/png": "[encoded data removed]",
      "text/plain": [
       "<Figure size 663.875x500 with 1 Axes>"
      ]
     },
     "metadata": {},
     "output_type": "display_data"
    }
   ],
   "source": [
    "fig = sns.displot(data = df,  x = \"prop_homicidios_total\", hue= \"raca_cor\")\n",
    "plt.show(fig)\n",
    "#aqui podemos constatar que o número de pessoas de cor preta foi maior"
   ]
  }
 ],
 "metadata": {
  "kernelspec": {
   "display_name": "Python 3",
   "language": "python",
   "name": "python3"
  },
  "language_info": {
   "codemirror_mode": {
    "name": "ipython",
    "version": 3
   },
   "file_extension": ".py",
   "mimetype": "text/x-python",
   "name": "python",
   "nbconvert_exporter": "python",
   "pygments_lexer": "ipython3",
   "version": "3.9.12"
  }
 },
 "nbformat": 4,
 "nbformat_minor": 5
}
